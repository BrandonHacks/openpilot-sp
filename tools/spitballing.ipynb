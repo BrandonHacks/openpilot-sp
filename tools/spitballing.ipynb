{
 "cells": [
  {
   "cell_type": "markdown",
   "metadata": {},
   "source": []
  },
  {
   "cell_type": "code",
   "execution_count": 11,
   "metadata": {},
   "outputs": [],
   "source": [
    "from sympy import *"
   ]
  },
  {
   "cell_type": "code",
   "execution_count": 12,
   "metadata": {},
   "outputs": [
    {
     "data": {
      "text/latex": [
       "$\\displaystyle - \\sin{\\left(x \\right)}$"
      ],
      "text/plain": [
       "-sin(x)"
      ]
     },
     "execution_count": 12,
     "metadata": {},
     "output_type": "execute_result"
    }
   ],
   "source": [
    "x, y, z = symbols('x y z')\n",
    "diff(cos(x))"
   ]
  },
  {
   "cell_type": "code",
   "execution_count": 40,
   "metadata": {},
   "outputs": [
    {
     "data": {
      "text/plain": [
       "[0.5*(vi**2 - 2.0)/a]"
      ]
     },
     "execution_count": 40,
     "metadata": {},
     "output_type": "execute_result"
    }
   ],
   "source": [
    "d,a,vi = symbols('d a vi')\n",
    "solve(-d - 1/a + 1/2*vi**2/a,a)"
   ]
  },
  {
   "cell_type": "code",
   "execution_count": 53,
   "metadata": {},
   "outputs": [
    {
     "data": {
      "text/plain": [
       "-1.125"
      ]
     },
     "execution_count": 53,
     "metadata": {},
     "output_type": "execute_result"
    }
   ],
   "source": [
    "# constant acceleration necessary to stop at 'd' distance from starting velocity 'vi'\n",
    "def accel_to_stop(vi,d):\n",
    "    return -0.5*(vi**2)/d\n",
    "\n",
    "# distance to stop at constant acceleration 'a' from starting velocity 'vl' \n",
    "def distance_to_stop(vi,a):\n",
    "    return -vi**2*0.5/a\n",
    "\n",
    "# d(10,-2)\n",
    "\n",
    "accel_to_stop(15,100)"
   ]
  },
  {
   "attachments": {},
   "cell_type": "markdown",
   "metadata": {},
   "source": [
    "Here's a moving tetrahedral integrator prototype"
   ]
  },
  {
   "cell_type": "code",
   "execution_count": 16,
   "metadata": {},
   "outputs": [
    {
     "name": "stdout",
     "output_type": "stream",
     "text": [
      "380.0\n",
      "0, 0.0, 0.0\n",
      "1, 0.5, 0.5\n",
      "2, 2.0, 2.0\n",
      "3, 4.5, 4.5\n",
      "4, 7.5, 7.5\n",
      "5, 10.5, 10.5\n",
      "6, 13.5, 13.5\n",
      "7, 16.5, 16.5\n",
      "8, 19.5, 19.5\n",
      "9, 22.5, 22.5\n",
      "10, 25.5, 25.5\n",
      "11, 28.5, 28.5\n",
      "12, 31.5, 31.5\n",
      "13, 34.5, 34.5\n",
      "14, 37.5, 37.5\n",
      "15, 40.5, 40.5\n",
      "16, 43.5, 43.5\n",
      "17, 46.5, 46.5\n",
      "18, 49.5, 49.5\n",
      "19, 52.5, 52.5\n",
      "19, 55.0, 55.0\n",
      "18, 56.0, 56.0\n",
      "17, 55.0, 55.0\n",
      "16, 52.5, 52.5\n",
      "15, 49.5, 49.5\n",
      "14, 46.5, 46.5\n",
      "13, 43.5, 43.5\n",
      "12, 40.5, 40.5\n",
      "11, 37.5, 37.5\n",
      "10, 34.5, 34.5\n",
      "9, 31.5, 31.5\n",
      "8, 28.5, 28.5\n",
      "7, 25.5, 25.5\n",
      "6, 22.5, 22.5\n",
      "5, 19.5, 19.5\n",
      "4, 16.5, 16.5\n",
      "3, 13.5, 13.5\n",
      "2, 10.5, 10.5\n",
      "1, 7.5, 7.5\n",
      "0, 4.5, 4.5\n"
     ]
    }
   ],
   "source": [
    "import numpy as np\n",
    "from collections import deque\n",
    "\n",
    "n=20\n",
    "a=np.array(list(range(n))+list(range(n))[::-1])\n",
    "ml=4\n",
    "d=deque(maxlen=ml)\n",
    "\n",
    "\n",
    "\n",
    "print(np.trapz(a))\n",
    "ival = 0.0\n",
    "for i in a:\n",
    "    if len(d) == ml:\n",
    "        ival -= 0.5*(d[0] + d[1])\n",
    "    d.append(i)\n",
    "    if len(d) > 1:\n",
    "        ival += 0.5*(d[-2] + d[-1])\n",
    "    print(', '.join([str(j) for j in [i, ival, np.trapz(np.array(d))]]))"
   ]
  }
 ],
 "metadata": {
  "kernelspec": {
   "display_name": "Python 3.8.10 ('openpilot-4RmvJrBV')",
   "language": "python",
   "name": "python3"
  },
  "language_info": {
   "codemirror_mode": {
    "name": "ipython",
    "version": 3
   },
   "file_extension": ".py",
   "mimetype": "text/x-python",
   "name": "python",
   "nbconvert_exporter": "python",
   "pygments_lexer": "ipython3",
   "version": "3.8.10"
  },
  "orig_nbformat": 4,
  "vscode": {
   "interpreter": {
    "hash": "757ebb23b72adeca34b46a1f407913c1300e6334f8aeac006bbf13e21de4deba"
   }
  }
 },
 "nbformat": 4,
 "nbformat_minor": 2
}
